{
  "nbformat": 4,
  "nbformat_minor": 0,
  "metadata": {
    "colab": {
      "name": "Spotify Funcionando",
      "version": "0.3.2",
      "provenance": []
    },
    "kernelspec": {
      "name": "python3",
      "display_name": "Python 3"
    }
  },
  "cells": [
    {
      "metadata": {
        "id": "ug9dJP279W1Z",
        "colab_type": "code",
        "outputId": "0747616f-ef9b-4f64-e110-556e6838c4b0",
        "colab": {
          "base_uri": "https://localhost:8080/",
          "height": 238
        }
      },
      "cell_type": "code",
      "source": [
        "pip install spotipy"
      ],
      "execution_count": 0,
      "outputs": [
        {
          "output_type": "stream",
          "text": [
            "Collecting spotipy\n",
            "  Downloading https://files.pythonhosted.org/packages/59/46/3c957255c96910a8a0e2d9c25db1de51a8676ebba01d7966bedc6e748822/spotipy-2.4.4.tar.gz\n",
            "Requirement already satisfied: requests>=1.0 in /usr/local/lib/python3.6/dist-packages (from spotipy) (2.21.0)\n",
            "Requirement already satisfied: idna<2.9,>=2.5 in /usr/local/lib/python3.6/dist-packages (from requests>=1.0->spotipy) (2.8)\n",
            "Requirement already satisfied: certifi>=2017.4.17 in /usr/local/lib/python3.6/dist-packages (from requests>=1.0->spotipy) (2019.3.9)\n",
            "Requirement already satisfied: chardet<3.1.0,>=3.0.2 in /usr/local/lib/python3.6/dist-packages (from requests>=1.0->spotipy) (3.0.4)\n",
            "Requirement already satisfied: urllib3<1.25,>=1.21.1 in /usr/local/lib/python3.6/dist-packages (from requests>=1.0->spotipy) (1.24.2)\n",
            "Building wheels for collected packages: spotipy\n",
            "  Building wheel for spotipy (setup.py) ... \u001b[?25ldone\n",
            "\u001b[?25h  Stored in directory: /root/.cache/pip/wheels/76/28/19/a86ca9bb0e32dbd4a4f580870250f5aeef852870578e0427e6\n",
            "Successfully built spotipy\n",
            "Installing collected packages: spotipy\n",
            "Successfully installed spotipy-2.4.4\n"
          ],
          "name": "stdout"
        }
      ]
    },
    {
      "metadata": {
        "id": "823KCVhd9hIO",
        "colab_type": "code",
        "colab": {}
      },
      "cell_type": "code",
      "source": [
        "import spotipy\n",
        "import spotipy.util as util\n",
        "from spotipy.oauth2 import SpotifyClientCredentials\n",
        "import random"
      ],
      "execution_count": 0,
      "outputs": []
    },
    {
      "metadata": {
        "id": "HbMWNQy8Jb1j",
        "colab_type": "code",
        "colab": {}
      },
      "cell_type": "code",
      "source": [
        "import spotipy\n",
        "import spotipy.util as util\n",
        "import random\n",
        "\n",
        "client_id= \"ad541ed383d148debb27379300efc734\"\n",
        "client_secret= \"d0ba77ed9629448bb1d91f3d720802a8\"\n",
        "\n",
        "token = util.oauth2.SpotifyClientCredentials(client_id=client_id, client_secret=client_secret)\n",
        "\n",
        "cache_token = token.get_access_token()\n",
        "spotify = spotipy.Spotify(cache_token)\n",
        "\n",
        "#print(cache_token)\n",
        "\n",
        "sp=spotipy.Spotify(auth= token)"
      ],
      "execution_count": 0,
      "outputs": []
    },
    {
      "metadata": {
        "id": "h39L-23OLm6t",
        "colab_type": "code",
        "colab": {}
      },
      "cell_type": "code",
      "source": [
        "def get_spotify_service():\n",
        "    \n",
        "    token = util.prompt_for_user_token(my_username,\n",
        "                                       chosen_scope,\n",
        "                                       client_id=my_client_id,\n",
        "                                       client_secret=my_client_secret,\n",
        "                                       redirect_uri=\"http://127.0.0.1\")\n",
        "\n",
        "    service = spotipy.Spotify(auth=token)\n",
        "\n",
        "    return service"
      ],
      "execution_count": 0,
      "outputs": []
    },
    {
      "metadata": {
        "id": "ImzlYkpxJ3kR",
        "colab_type": "code",
        "colab": {}
      },
      "cell_type": "code",
      "source": [
        "def getTrivialInfo(playlistList):\n",
        "    dfTrivialList=[]\n",
        "    for playlist in playlistList:\n",
        "        index=0\n",
        "        dfTrivial = pd.DataFrame(columns=('SongName', 'SongId', 'SongArtist'), index=np.arange(0, len(playlist['tracks']['items'])))\n",
        "        for item in playlist['tracks']['items']:\n",
        "            track = item['track']\n",
        "            dfTrivial.loc[index]=[track['name'], track['id'], track['artists'][0]['name']]\n",
        "            index+=1\n",
        "        dfTrivialList.append(dfTrivial)\n",
        "    return dfTrivialList"
      ],
      "execution_count": 0,
      "outputs": []
    },
    {
      "metadata": {
        "id": "1OI8nkI6J7Xw",
        "colab_type": "code",
        "colab": {}
      },
      "cell_type": "code",
      "source": [
        "def getSongList(dfTrivialList):\n",
        "    songIdsList=[]\n",
        "    for dfTrivial in dfTrivialList:\n",
        "        songIds=list(dfTrivial['SongId'])\n",
        "        songIdsList.append(songIds)\n",
        "    return songIdsList"
      ],
      "execution_count": 0,
      "outputs": []
    },
    {
      "metadata": {
        "id": "kEOE2ROKJ-MA",
        "colab_type": "code",
        "colab": {}
      },
      "cell_type": "code",
      "source": [
        "def getFeaturesList(dfTrivialList, songIdsList, columns=('SongName', 'Danceability', 'Energy', 'Loudness', 'Speechiness', 'Acousticness', 'Valence', 'Instrumentalness','Tempo')):\n",
        "    dfFeaturesList=[]\n",
        "    for dfTrivial, songIds in zip(dfTrivialList, songIdsList):\n",
        "        index=0\n",
        "        audioFeatures = sp.audio_features(tracks=songIds)\n",
        "        categories=columns[1:]\n",
        "        dfFeatures = pd.DataFrame(columns=columns, index=np.arange(0, len(songIds)))\n",
        "        for i, song in enumerate(audioFeatures):\n",
        "            dfFeatures.loc[index]=[list(dfTrivial['SongName'])[i], song['danceability'], song['energy'], song['loudness'], song['speechiness'], song['acousticness'], song['valence'], song['instrumentalness'], song['tempo']]\n",
        "            index+=1\n",
        "        dfFeaturesList.append(dfFeatures)\n",
        "    return dfFeaturesList"
      ],
      "execution_count": 0,
      "outputs": []
    },
    {
      "metadata": {
        "id": "gn8fW4GaKAp8",
        "colab_type": "code",
        "colab": {}
      },
      "cell_type": "code",
      "source": [
        "def getFeaturesToUse(dfFeaturesList, categories=['Danceability','Energy', 'Speechiness', 'Acousticness', 'Valence']):\n",
        "    featuresToUseList=[]\n",
        "    for dfFeatures in dfFeaturesList:\n",
        "        features = dfFeatures[categories]\n",
        "        featuresToUseList.append(features)\n",
        "    return featuresToUseList"
      ],
      "execution_count": 0,
      "outputs": []
    },
    {
      "metadata": {
        "id": "ziMbgVEPKEa0",
        "colab_type": "code",
        "colab": {}
      },
      "cell_type": "code",
      "source": [
        "def featurePreprocessing(song, categories=['Danceability','Energy', 'Speechiness', 'Acousticness', 'Valence']):\n",
        "    return song[categories]"
      ],
      "execution_count": 0,
      "outputs": []
    },
    {
      "metadata": {
        "id": "a7WA2F1xKGih",
        "colab_type": "code",
        "colab": {}
      },
      "cell_type": "code",
      "source": [
        "import matplotlib.pyplot as plt\n",
        "import seaborn as sns\n",
        "from math import pi\n",
        "import operator"
      ],
      "execution_count": 0,
      "outputs": []
    },
    {
      "metadata": {
        "id": "TYcBeHDpKJeD",
        "colab_type": "code",
        "colab": {}
      },
      "cell_type": "code",
      "source": [
        "playlistDictionary={\"Get Turnt\": \"37i9dQZF1DWY4xHQp97fN6\",\n",
        "                   \"Classical Essentials\": \"37i9dQZF1DWWEJlAGA9gs0\", #37i9dQZF1DXaXB8fQg7xif\n",
        "                    \"Rock Save the Queen\" : \"37i9dQZF1DXcDnIr0iKAG8\",\n",
        "                   \"Coffee Table Jazz\" : \"37i9dQZF1DWVqfgj8NZEp1\"\n",
        "                   }"
      ],
      "execution_count": 0,
      "outputs": []
    },
    {
      "metadata": {
        "id": "nVWZ5B-qKMND",
        "colab_type": "code",
        "colab": {}
      },
      "cell_type": "code",
      "source": [
        "getTurntId=playlistDictionary[\"Get Turnt\"]\n",
        "dancePartyId=playlistDictionary[\"Classical Essentials\"]\n",
        "jazzyRomanceId=playlistDictionary[\"Coffee Table Jazz\"]\n",
        "rockSaveTheQueenId=playlistDictionary[\"Rock Save the Queen\"]\n",
        "spotifyUsername='Spotify'\n",
        "getTurnt=sp.user_playlist(spotifyUsername, playlist_id=getTurntId)\n",
        "danceParty=sp.user_playlist(spotifyUsername, playlist_id=dancePartyId)\n",
        "jazzyRomance=sp.user_playlist(spotifyUsername, playlist_id=jazzyRomanceId)\n",
        "rockSaveTheQueen=sp.user_playlist(spotifyUsername, playlist_id=rockSaveTheQueenId)"
      ],
      "execution_count": 0,
      "outputs": []
    },
    {
      "metadata": {
        "id": "_UiMjAdoKQjs",
        "colab_type": "code",
        "colab": {}
      },
      "cell_type": "code",
      "source": [
        "'instrumentalness','tempo')\n",
        "playlistList=[getTurnt, danceParty, jazzyRomance, rockSaveTheQueen]\n",
        "n_bins=20\n",
        "fig, axs = plt.subplots(figsize=(24, 8), nrows=2, ncols=4)\n",
        "axs=axs.flatten()\n",
        "dfTrivialList=getTrivialInfo(playlistList)\n",
        "songIdsList=getSongList(dfTrivialList)\n",
        "songIds1=songIdsList[0]\n",
        "songIds2=songIdsList[1]\n",
        "songIds3=songIdsList[2]\n",
        "songIds4=songIdsList[3]\n",
        "audioFeatures1 = sp.audio_features(tracks=songIds1)\n",
        "audioFeatures2 = sp.audio_features(tracks=songIds2)\n",
        "audioFeatures3 = sp.audio_features(tracks=songIds3)\n",
        "audioFeatures4 = sp.audio_features(tracks=songIds4)\n",
        "for song1, song2, song3, song4 in zip(audioFeatures1, audioFeatures2, audioFeatures3, audioFeatures4):\n",
        "    if song1 is None:\n",
        "        audioFeatures1.remove(song1)\n",
        "    if song2 is None:\n",
        "        audioFeatures2.remove(song2)\n",
        "    if song3 is None:\n",
        "        audioFeatures3.remove(song3)\n",
        "    if song4 is None:\n",
        "        audioFeatures4.remove(song4)\n",
        "            \n",
        "index=0\n",
        "for feature in column[1:]:\n",
        "    ax=axs[index]\n",
        "    ax.set_title(feature)\n",
        "    featureListToPlot1 = []\n",
        "    featureListToPlot2 = []\n",
        "    featureListToPlot3 = []\n",
        "    featureListToPlot4 = []\n",
        "    for song1, song2, song3, song4 in zip(audioFeatures1, audioFeatures2, audioFeatures3, audioFeatures4):\n",
        "        featureListToPlot1.append(song1[feature])\n",
        "        featureListToPlot2.append(song2[feature])\n",
        "        featureListToPlot3.append(song3[feature])\n",
        "        featureListToPlot4.append(song4[feature])\n",
        "    sns.distplot(featureListToPlot1, hist=True, bins=n_bins, color = 'red', hist_kws={'edgecolor':'red'}, kde_kws={'linewidth': 4}, ax=ax)\n",
        "    sns.distplot(featureListToPlot2, hist=True, bins=n_bins, color = 'blue', hist_kws={'edgecolor':'blue'}, kde_kws={'linewidth': 4}, ax=ax)\n",
        "    sns.distplot(featureListToPlot3, hist=True, bins=n_bins, color = 'orange', hist_kws={'edgecolor':'orange'}, kde_kws={'linewidth': 4}, ax=ax)\n",
        "    sns.distplot(featureListToPlot4, hist=True, bins=n_bins, color = 'yellow', hist_kws={'edgecolor':'yellow'}, kde_kws={'linewidth': 4}, ax=ax)\n",
        "    index+=1"
      ],
      "execution_count": 0,
      "outputs": []
    },
    {
      "metadata": {
        "id": "ceHRfzvsKUgp",
        "colab_type": "code",
        "colab": {}
      },
      "cell_type": "code",
      "source": [
        "categories = column[1:]\n",
        "tempoFeaturesTogether=[]\n",
        "loudnessFeaturesTogether=[]\n",
        "\n",
        "for song1, song2, song3, song4 in zip(audioFeatures1, audioFeatures2, audioFeatures3, audioFeatures4):\n",
        "    tempoFeaturesTogether.append(song1['tempo'])\n",
        "    tempoFeaturesTogether.append(song2['tempo'])\n",
        "    tempoFeaturesTogether.append(song3['tempo'])\n",
        "    tempoFeaturesTogether.append(song4['tempo'])\n",
        "    loudnessFeaturesTogether.append(song1['loudness'])\n",
        "    loudnessFeaturesTogether.append(song2['loudness'])\n",
        "    loudnessFeaturesTogether.append(song3['loudness'])\n",
        "    loudnessFeaturesTogether.append(song4['loudness'])\n",
        "    \n",
        "minimumTempo=min(tempoFeaturesTogether)\n",
        "maximumTempo=max(tempoFeaturesTogether)\n",
        "minimumLoudness=min(loudnessFeaturesTogether)\n",
        "print(minimumLoudness)\n",
        "maximumLoudness=max(loudnessFeaturesTogether)\n",
        "print(maximumLoudness)\n",
        "\n",
        "for song1, song2, song3, song4 in zip(audioFeatures1, audioFeatures2, audioFeatures3, audioFeatures4):\n",
        "    song1['tempo']=(song1['tempo']-minimumTempo)/(maximumTempo-minimumTempo)\n",
        "    song2['tempo']=(song2['tempo']-minimumTempo)/(maximumTempo-minimumTempo)\n",
        "    song3['tempo']=(song3['tempo']-minimumTempo)/(maximumTempo-minimumTempo)\n",
        "    song4['tempo']=(song4['tempo']-minimumTempo)/(maximumTempo-minimumTempo)\n",
        "    song1['loudness']=(song1['loudness']-minimumLoudness)/(maximumLoudness-minimumLoudness)\n",
        "    song2['loudness']=(song2['loudness']-minimumLoudness)/(maximumLoudness-minimumLoudness)\n",
        "    song3['loudness']=(song3['loudness']-minimumLoudness)/(maximumLoudness-minimumLoudness)\n",
        "    song4['loudness']=(song4['loudness']-minimumLoudness)/(maximumLoudness-minimumLoudness)\n",
        "\n",
        "\n",
        "\n",
        "\n",
        "dfFeaturesList=[]\n",
        "audioFeaturesList=[audioFeatures1, audioFeatures2, audioFeatures3, audioFeatures4]\n",
        "for audioFeatures in audioFeaturesList:\n",
        "    dfFeatures = pd.DataFrame(columns=categories, index=np.arange(0, len(audioFeatures)))\n",
        "    for i, song in enumerate(audioFeatures[:99]):\n",
        "        print(song['loudness'])\n",
        "        dfFeatures.loc[i]=[song['danceability'], song['energy'], song['loudness'], song['speechiness'], song['acousticness'], song['valence'], song['instrumentalness'], song['tempo']]\n",
        "    \n",
        "    dfFeaturesList.append(dfFeatures)\n",
        "\n",
        "for i in range(len(dfFeaturesList)):\n",
        "    dfFeaturesList[i]=dfFeaturesList[i].mean()\n",
        "\n",
        "dfFeaturesList=pd.concat(dfFeaturesList, axis=1)"
      ],
      "execution_count": 0,
      "outputs": []
    },
    {
      "metadata": {
        "id": "3Y4mF0XsKY1h",
        "colab_type": "code",
        "colab": {}
      },
      "cell_type": "code",
      "source": [
        "N = len(categories)\n",
        "angles = [n / float(N) * 2 * pi for n in range(N)]\n",
        "angles += angles[:1]\n",
        "\n",
        "fig = plt.figure(figsize=(8,8))\n",
        "ax = plt.subplot(111, polar=True)\n",
        "ax.set_theta_offset(pi)\n",
        "ax.set_theta_direction(-1)\n",
        " \n",
        "plt.xticks(angles, categories)\n",
        "\n",
        "ax.set_rlabel_position(0)\n",
        "plt.yticks([0, 0.5, 1], [\"0\", \"0.5\", \"1\"], color=\"grey\", size=7)\n",
        "plt.ylim(0, 1)\n",
        " \n",
        "\n",
        "# Ind1\n",
        "colors=['r', 'b', 'orange', 'y']\n",
        "for i, key in enumerate(playlistDictionary.keys()):\n",
        "    if i <4:\n",
        "        values=list(dfFeaturesList[i])\n",
        "        print(values)\n",
        "        values += values[:1]\n",
        "        ax.plot(angles, values, color=colors[i], linewidth=1, linestyle='solid', label=key)\n",
        " \n",
        "# Add legend\n",
        "plt.legend(bbox_to_anchor=(0.1, 0.1))"
      ],
      "execution_count": 0,
      "outputs": []
    },
    {
      "metadata": {
        "id": "pcBfeJaDKcJ-",
        "colab_type": "code",
        "colab": {}
      },
      "cell_type": "code",
      "source": [
        "def euclideanDistance(data1, data2, weight, length):\n",
        "    distance = 0\n",
        "    for x in range(length):\n",
        "        distance += np.square(weight[x]*(data1[x] - data2[x]))\n",
        "    return np.sqrt(distance)\n",
        "\n",
        "def distances(trainingSet, testSong, weight):\n",
        "    distanceDict = {}\n",
        "    length = testSong.shape[0]\n",
        "    for genre, features in trainingSet.items():\n",
        "        dist = [[euclideanDistance(features.iloc[x], testSong, weight, length), x] for x in range(len(features))]\n",
        "        distanceDict[genre] = dist\n",
        "    return distanceDict"
      ],
      "execution_count": 0,
      "outputs": []
    },
    {
      "metadata": {
        "id": "YmEaRNuWKf7Z",
        "colab_type": "code",
        "colab": {}
      },
      "cell_type": "code",
      "source": [
        "def knn(sortedDistances, k):\n",
        "    counter={}\n",
        "    for key in sortedDistances.keys():\n",
        "        counter[key] =0 \n",
        "    minKey=''\n",
        "    minId=0\n",
        "    neighborKeyAndId=[]\n",
        "    for i in range(k):\n",
        "        minValue=5\n",
        "        for key, value in sortedDistances.items():\n",
        "            if value[0][0]<minValue:\n",
        "                minId=value[0][1]\n",
        "                minKey=key\n",
        "                minValue = value[0][0]\n",
        "        del(sortedDistances[minKey][0])\n",
        "        counter[minKey]=counter[minKey]+1\n",
        "        neighborKeyAndId.append([minKey, minId])\n",
        "    return counter, neighborKeyAndId"
      ],
      "execution_count": 0,
      "outputs": []
    },
    {
      "metadata": {
        "id": "51t2DnY2KiOl",
        "colab_type": "code",
        "colab": {}
      },
      "cell_type": "code",
      "source": [
        "playlistList=[getTurnt, danceParty, rockSaveTheQueen, jazzyRomance]"
      ],
      "execution_count": 0,
      "outputs": []
    },
    {
      "metadata": {
        "id": "-Ol3-md2KkyG",
        "colab_type": "code",
        "colab": {}
      },
      "cell_type": "code",
      "source": [
        "dfTrivialList=getTrivialInfo(playlistList);\n",
        "songIdsList=getSongList(dfTrivialList);\n",
        "dfFeaturesList=getFeaturesList(dfTrivialList, songIdsList, columns=('SongName', 'Danceability', 'Energy', 'Loudness', 'Speechiness', 'Acousticness', 'Valence', 'Instrumentalness','Tempo'))\n",
        "print(dfFeaturesList[1].iloc[48])\n",
        "featuresToUseList=getFeaturesToUse(dfFeaturesList, categories=['Danceability','Energy', 'Speechiness', 'Acousticness', 'Valence','Instrumentalness'])\n",
        "print(featuresToUseList[1])"
      ],
      "execution_count": 0,
      "outputs": []
    },
    {
      "metadata": {
        "id": "o0FS1G0lKvZf",
        "colab_type": "code",
        "colab": {}
      },
      "cell_type": "code",
      "source": [
        "f1= featuresToUseList[0][:35]\n",
        "f2= featuresToUseList[1][:35]\n",
        "f3= featuresToUseList[2][:35]\n",
        "f4= featuresToUseList[3][:35]\n",
        "trainingSet = {'1': f1, '2': f2, '3': f3, '4': f4}\n",
        "for i in range(len(featuresToUseList)):\n",
        "    print(i)\n",
        "    accurate=0\n",
        "    total=0\n",
        "    for j in range(35,99):\n",
        "        distanceList=distances(trainingSet, featuresToUseList[i].iloc[j], [1,1,1,1,1,1])\n",
        "        print(dfFeaturesList[i].iloc[j])\n",
        "        sortedDict={}\n",
        "        for key in distanceList.keys():\n",
        "            sortedDict[key]=sorted(distanceList[key], key=operator.itemgetter(0))\n",
        "        counter, neighborKeyAndId = knn(sortedDict, 25)\n",
        "        prediction=max(counter.items(), key=operator.itemgetter(1))[0]\n",
        "        if(i+1 == int(prediction)):\n",
        "            accurate+=1\n",
        "        total+=1\n",
        "        print(counter)\n",
        "    print(float(accurate/total))"
      ],
      "execution_count": 0,
      "outputs": []
    },
    {
      "metadata": {
        "id": "BqYEdC1cKyoC",
        "colab_type": "code",
        "colab": {}
      },
      "cell_type": "code",
      "source": [
        "eams_list = [\"Get Turnt\", \"Classical Essentials\", \"Rock Save The Queen\", \"Coffee Table Jazz\"]\n",
        "data = np.array([[89.0625, 98.4375],\n",
        "                 [51.5625, 87.5],\n",
        "                 [100, 98.4375],\n",
        "                 [92.1875, 90.625]])\n",
        "pd.DataFrame(data, teams_list, [\"KNN\", \"NBC\"])"
      ],
      "execution_count": 0,
      "outputs": []
    },
    {
      "metadata": {
        "id": "DFGaMi--K02-",
        "colab_type": "code",
        "colab": {}
      },
      "cell_type": "code",
      "source": [
        "def mean(numbers):\n",
        "    return sum(numbers)/float(len(numbers))\n",
        " \n",
        "def stdev(numbers):\n",
        "    avg = mean(numbers)\n",
        "    variance = sum([pow(x-avg,2) for x in numbers])/float(len(numbers)-1)\n",
        "    return np.sqrt(variance)\n",
        "\n",
        "def summarize(dataset):\n",
        "    summaries = [(mean(attribute), stdev(attribute)) for attribute in zip(*dataset)]\n",
        "    del summaries[-1]\n",
        "    return summaries"
      ],
      "execution_count": 0,
      "outputs": []
    },
    {
      "metadata": {
        "id": "r1wfGDwWK33J",
        "colab_type": "code",
        "colab": {}
      },
      "cell_type": "code",
      "source": [
        "meanStdevPlaylist={}\n",
        "index=0\n",
        "for playlistFeatures in featuresToUseList[:4]:\n",
        "    meanStdev=[]\n",
        "    for column in ['Danceability','Energy', 'Speechiness', 'Acousticness', 'Valence', 'Instrumentalness']:\n",
        "        featureColumns=list(playlistFeatures[column])\n",
        "        meanStdev.append((mean(featureColumns), stdev(featureColumns)))\n",
        "    meanStdevPlaylist[index]=meanStdev\n",
        "    index=index+1\n",
        "print(meanStdevPlaylist)"
      ],
      "execution_count": 0,
      "outputs": []
    },
    {
      "metadata": {
        "id": "WGg-vzxCK7HD",
        "colab_type": "code",
        "colab": {}
      },
      "cell_type": "code",
      "source": [
        "def calculateProbability(x, mean, stdev):\n",
        "    exponent = np.exp(-(np.square(x-mean)/(2*np.square(stdev))))\n",
        "    return exponent / (np.sqrt(2*pi) * stdev)"
      ],
      "execution_count": 0,
      "outputs": []
    },
    {
      "metadata": {
        "id": "VGFTK6bJK9nv",
        "colab_type": "code",
        "colab": {}
      },
      "cell_type": "code",
      "source": [
        "def calculateProbabilityAllFeatures(song, meanStdevPlaylist):\n",
        "    probabilities={}\n",
        "    for key, value in meanStdevPlaylist.items():\n",
        "        probabilities[key] = [calculateProbability(song[i], val[0], val[1]) for i, val in enumerate(value)]\n",
        "    return probabilities"
      ],
      "execution_count": 0,
      "outputs": []
    },
    {
      "metadata": {
        "id": "ZEYwKrsdLAEy",
        "colab_type": "code",
        "colab": {}
      },
      "cell_type": "code",
      "source": [
        "probabilities = calculateProbabilityAllFeatures(featuresToUseList[0].iloc[44], meanStdevPlaylist)\n",
        "print(probabilities)\n",
        "for key, value in probabilities.items():\n",
        "    probability = 1\n",
        "    for val in value:\n",
        "        probability*=val \n",
        "    probabilities[key] = probability\n",
        "print(probabilities)"
      ],
      "execution_count": 0,
      "outputs": []
    },
    {
      "metadata": {
        "id": "jO8FZ5JTLE8O",
        "colab_type": "code",
        "colab": {}
      },
      "cell_type": "code",
      "source": [
        "for i in range(len(featuresToUseList[:4])):\n",
        "    print(i)\n",
        "    accurate=0\n",
        "    total=0\n",
        "    for j in range(35,99):\n",
        "        probabilities = calculateProbabilityAllFeatures(featuresToUseList[i].iloc[j], meanStdevPlaylist)\n",
        "        print(dfFeaturesList[i].iloc[j].SongName)\n",
        "        for key, value in probabilities.items():\n",
        "            \n",
        "            probability = 1\n",
        "            for val in value:\n",
        "                probability*=val \n",
        "            probabilities[key] = probability\n",
        "        print(probabilities)\n",
        "        prediction=max(probabilities.items(), key=operator.itemgetter(1))[0]\n",
        "        if(i == int(prediction)):\n",
        "            accurate+=1\n",
        "        else:\n",
        "            print(\"wrong\")\n",
        "        total+=1\n",
        "    print(float(accurate/total))"
      ],
      "execution_count": 0,
      "outputs": []
    }
  ]
}